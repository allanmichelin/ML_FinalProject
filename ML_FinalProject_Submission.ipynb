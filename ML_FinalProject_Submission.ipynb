{
  "nbformat": 4,
  "nbformat_minor": 0,
  "metadata": {
    "kernelspec": {
      "language": "python",
      "display_name": "Python 3",
      "name": "python3"
    },
    "language_info": {
      "pygments_lexer": "ipython3",
      "nbconvert_exporter": "python",
      "version": "3.6.4",
      "file_extension": ".py",
      "codemirror_mode": {
        "name": "ipython",
        "version": 3
      },
      "name": "python",
      "mimetype": "text/x-python"
    },
    "colab": {
      "name": "ML_FinalProject_SubmissionDocument.ipynb",
      "provenance": [],
      "collapsed_sections": []
    }
  },
  "cells": [
    {
      "cell_type": "markdown",
      "metadata": {
        "_uuid": "8f2839f25d086af736a60e9eeb907d3b93b6e0e5",
        "_cell_guid": "b1076dfc-b9ad-4769-8c92-a6c4dae69d19",
        "id": "leoP25qXCgIi"
      },
      "source": [
        "# Music Genre Prediction using Logistic Regression"
      ]
    },
    {
      "cell_type": "markdown",
      "metadata": {
        "id": "Qtbb1iyBCgIj"
      },
      "source": [
        "#### Loading and Displaying data"
      ]
    },
    {
      "cell_type": "code",
      "metadata": {
        "execution": {
          "iopub.status.busy": "2021-09-19T00:00:34.226921Z",
          "iopub.execute_input": "2021-09-19T00:00:34.227222Z",
          "iopub.status.idle": "2021-09-19T00:00:34.231664Z",
          "shell.execute_reply.started": "2021-09-19T00:00:34.227192Z",
          "shell.execute_reply": "2021-09-19T00:00:34.230752Z"
        },
        "trusted": true,
        "id": "tOd099uqCgIk"
      },
      "source": [
        "import pandas as pd\n",
        "from sklearn import preprocessing\n",
        "import numpy as np\n",
        "import matplotlib.pyplot as plt"
      ],
      "execution_count": 17,
      "outputs": []
    },
    {
      "cell_type": "code",
      "source": [
        ""
      ],
      "metadata": {
        "id": "liKAO-qJndtp"
      },
      "execution_count": 17,
      "outputs": []
    },
    {
      "cell_type": "code",
      "metadata": {
        "execution": {
          "iopub.status.busy": "2021-09-19T00:00:34.233731Z",
          "iopub.execute_input": "2021-09-19T00:00:34.234113Z",
          "iopub.status.idle": "2021-09-19T00:00:34.328816Z",
          "shell.execute_reply.started": "2021-09-19T00:00:34.234065Z",
          "shell.execute_reply": "2021-09-19T00:00:34.327911Z"
        },
        "trusted": true,
        "colab": {
          "base_uri": "https://localhost:8080/",
          "height": 444
        },
        "id": "VAaAbRuuCgIl",
        "outputId": "42381f7a-db41-45a8-a210-0333c152c0ec"
      },
      "source": [
        "df = pd.read_csv(\"train.csv\", sep = r',', skipinitialspace = True)\n",
        "df.head()"
      ],
      "execution_count": 18,
      "outputs": [
        {
          "output_type": "execute_result",
          "data": {
            "text/html": [
              "\n",
              "  <div id=\"df-b7759211-4f5e-47c0-b0cc-2bd7b0065a8c\">\n",
              "    <div class=\"colab-df-container\">\n",
              "      <div>\n",
              "<style scoped>\n",
              "    .dataframe tbody tr th:only-of-type {\n",
              "        vertical-align: middle;\n",
              "    }\n",
              "\n",
              "    .dataframe tbody tr th {\n",
              "        vertical-align: top;\n",
              "    }\n",
              "\n",
              "    .dataframe thead th {\n",
              "        text-align: right;\n",
              "    }\n",
              "</style>\n",
              "<table border=\"1\" class=\"dataframe\">\n",
              "  <thead>\n",
              "    <tr style=\"text-align: right;\">\n",
              "      <th></th>\n",
              "      <th>Artist Name</th>\n",
              "      <th>Track Name</th>\n",
              "      <th>Popularity</th>\n",
              "      <th>danceability</th>\n",
              "      <th>energy</th>\n",
              "      <th>key</th>\n",
              "      <th>loudness</th>\n",
              "      <th>mode</th>\n",
              "      <th>speechiness</th>\n",
              "      <th>acousticness</th>\n",
              "      <th>instrumentalness</th>\n",
              "      <th>liveness</th>\n",
              "      <th>valence</th>\n",
              "      <th>tempo</th>\n",
              "      <th>duration_in min/ms</th>\n",
              "      <th>time_signature</th>\n",
              "      <th>Class</th>\n",
              "    </tr>\n",
              "  </thead>\n",
              "  <tbody>\n",
              "    <tr>\n",
              "      <th>0</th>\n",
              "      <td>Bruno Mars</td>\n",
              "      <td>That's What I Like (feat. Gucci Mane)</td>\n",
              "      <td>60.0</td>\n",
              "      <td>0.854</td>\n",
              "      <td>0.564</td>\n",
              "      <td>1.0</td>\n",
              "      <td>-4.964</td>\n",
              "      <td>1</td>\n",
              "      <td>0.0485</td>\n",
              "      <td>0.017100</td>\n",
              "      <td>NaN</td>\n",
              "      <td>0.0849</td>\n",
              "      <td>0.8990</td>\n",
              "      <td>134.071</td>\n",
              "      <td>234596.0</td>\n",
              "      <td>4</td>\n",
              "      <td>5</td>\n",
              "    </tr>\n",
              "    <tr>\n",
              "      <th>1</th>\n",
              "      <td>Boston</td>\n",
              "      <td>Hitch a Ride</td>\n",
              "      <td>54.0</td>\n",
              "      <td>0.382</td>\n",
              "      <td>0.814</td>\n",
              "      <td>3.0</td>\n",
              "      <td>-7.230</td>\n",
              "      <td>1</td>\n",
              "      <td>0.0406</td>\n",
              "      <td>0.001100</td>\n",
              "      <td>0.004010</td>\n",
              "      <td>0.1010</td>\n",
              "      <td>0.5690</td>\n",
              "      <td>116.454</td>\n",
              "      <td>251733.0</td>\n",
              "      <td>4</td>\n",
              "      <td>10</td>\n",
              "    </tr>\n",
              "    <tr>\n",
              "      <th>2</th>\n",
              "      <td>The Raincoats</td>\n",
              "      <td>No Side to Fall In</td>\n",
              "      <td>35.0</td>\n",
              "      <td>0.434</td>\n",
              "      <td>0.614</td>\n",
              "      <td>6.0</td>\n",
              "      <td>-8.334</td>\n",
              "      <td>1</td>\n",
              "      <td>0.0525</td>\n",
              "      <td>0.486000</td>\n",
              "      <td>0.000196</td>\n",
              "      <td>0.3940</td>\n",
              "      <td>0.7870</td>\n",
              "      <td>147.681</td>\n",
              "      <td>109667.0</td>\n",
              "      <td>4</td>\n",
              "      <td>6</td>\n",
              "    </tr>\n",
              "    <tr>\n",
              "      <th>3</th>\n",
              "      <td>Deno</td>\n",
              "      <td>Lingo (feat. J.I &amp; Chunkz)</td>\n",
              "      <td>66.0</td>\n",
              "      <td>0.853</td>\n",
              "      <td>0.597</td>\n",
              "      <td>10.0</td>\n",
              "      <td>-6.528</td>\n",
              "      <td>0</td>\n",
              "      <td>0.0555</td>\n",
              "      <td>0.021200</td>\n",
              "      <td>NaN</td>\n",
              "      <td>0.1220</td>\n",
              "      <td>0.5690</td>\n",
              "      <td>107.033</td>\n",
              "      <td>173968.0</td>\n",
              "      <td>4</td>\n",
              "      <td>5</td>\n",
              "    </tr>\n",
              "    <tr>\n",
              "      <th>4</th>\n",
              "      <td>Red Hot Chili Peppers</td>\n",
              "      <td>Nobody Weird Like Me - Remastered</td>\n",
              "      <td>53.0</td>\n",
              "      <td>0.167</td>\n",
              "      <td>0.975</td>\n",
              "      <td>2.0</td>\n",
              "      <td>-4.279</td>\n",
              "      <td>1</td>\n",
              "      <td>0.2160</td>\n",
              "      <td>0.000169</td>\n",
              "      <td>0.016100</td>\n",
              "      <td>0.1720</td>\n",
              "      <td>0.0918</td>\n",
              "      <td>199.060</td>\n",
              "      <td>229960.0</td>\n",
              "      <td>4</td>\n",
              "      <td>10</td>\n",
              "    </tr>\n",
              "  </tbody>\n",
              "</table>\n",
              "</div>\n",
              "      <button class=\"colab-df-convert\" onclick=\"convertToInteractive('df-b7759211-4f5e-47c0-b0cc-2bd7b0065a8c')\"\n",
              "              title=\"Convert this dataframe to an interactive table.\"\n",
              "              style=\"display:none;\">\n",
              "        \n",
              "  <svg xmlns=\"http://www.w3.org/2000/svg\" height=\"24px\"viewBox=\"0 0 24 24\"\n",
              "       width=\"24px\">\n",
              "    <path d=\"M0 0h24v24H0V0z\" fill=\"none\"/>\n",
              "    <path d=\"M18.56 5.44l.94 2.06.94-2.06 2.06-.94-2.06-.94-.94-2.06-.94 2.06-2.06.94zm-11 1L8.5 8.5l.94-2.06 2.06-.94-2.06-.94L8.5 2.5l-.94 2.06-2.06.94zm10 10l.94 2.06.94-2.06 2.06-.94-2.06-.94-.94-2.06-.94 2.06-2.06.94z\"/><path d=\"M17.41 7.96l-1.37-1.37c-.4-.4-.92-.59-1.43-.59-.52 0-1.04.2-1.43.59L10.3 9.45l-7.72 7.72c-.78.78-.78 2.05 0 2.83L4 21.41c.39.39.9.59 1.41.59.51 0 1.02-.2 1.41-.59l7.78-7.78 2.81-2.81c.8-.78.8-2.07 0-2.86zM5.41 20L4 18.59l7.72-7.72 1.47 1.35L5.41 20z\"/>\n",
              "  </svg>\n",
              "      </button>\n",
              "      \n",
              "  <style>\n",
              "    .colab-df-container {\n",
              "      display:flex;\n",
              "      flex-wrap:wrap;\n",
              "      gap: 12px;\n",
              "    }\n",
              "\n",
              "    .colab-df-convert {\n",
              "      background-color: #E8F0FE;\n",
              "      border: none;\n",
              "      border-radius: 50%;\n",
              "      cursor: pointer;\n",
              "      display: none;\n",
              "      fill: #1967D2;\n",
              "      height: 32px;\n",
              "      padding: 0 0 0 0;\n",
              "      width: 32px;\n",
              "    }\n",
              "\n",
              "    .colab-df-convert:hover {\n",
              "      background-color: #E2EBFA;\n",
              "      box-shadow: 0px 1px 2px rgba(60, 64, 67, 0.3), 0px 1px 3px 1px rgba(60, 64, 67, 0.15);\n",
              "      fill: #174EA6;\n",
              "    }\n",
              "\n",
              "    [theme=dark] .colab-df-convert {\n",
              "      background-color: #3B4455;\n",
              "      fill: #D2E3FC;\n",
              "    }\n",
              "\n",
              "    [theme=dark] .colab-df-convert:hover {\n",
              "      background-color: #434B5C;\n",
              "      box-shadow: 0px 1px 3px 1px rgba(0, 0, 0, 0.15);\n",
              "      filter: drop-shadow(0px 1px 2px rgba(0, 0, 0, 0.3));\n",
              "      fill: #FFFFFF;\n",
              "    }\n",
              "  </style>\n",
              "\n",
              "      <script>\n",
              "        const buttonEl =\n",
              "          document.querySelector('#df-b7759211-4f5e-47c0-b0cc-2bd7b0065a8c button.colab-df-convert');\n",
              "        buttonEl.style.display =\n",
              "          google.colab.kernel.accessAllowed ? 'block' : 'none';\n",
              "\n",
              "        async function convertToInteractive(key) {\n",
              "          const element = document.querySelector('#df-b7759211-4f5e-47c0-b0cc-2bd7b0065a8c');\n",
              "          const dataTable =\n",
              "            await google.colab.kernel.invokeFunction('convertToInteractive',\n",
              "                                                     [key], {});\n",
              "          if (!dataTable) return;\n",
              "\n",
              "          const docLinkHtml = 'Like what you see? Visit the ' +\n",
              "            '<a target=\"_blank\" href=https://colab.research.google.com/notebooks/data_table.ipynb>data table notebook</a>'\n",
              "            + ' to learn more about interactive tables.';\n",
              "          element.innerHTML = '';\n",
              "          dataTable['output_type'] = 'display_data';\n",
              "          await google.colab.output.renderOutput(dataTable, element);\n",
              "          const docLink = document.createElement('div');\n",
              "          docLink.innerHTML = docLinkHtml;\n",
              "          element.appendChild(docLink);\n",
              "        }\n",
              "      </script>\n",
              "    </div>\n",
              "  </div>\n",
              "  "
            ],
            "text/plain": [
              "             Artist Name  ... Class\n",
              "0             Bruno Mars  ...     5\n",
              "1                 Boston  ...    10\n",
              "2          The Raincoats  ...     6\n",
              "3                   Deno  ...     5\n",
              "4  Red Hot Chili Peppers  ...    10\n",
              "\n",
              "[5 rows x 17 columns]"
            ]
          },
          "metadata": {},
          "execution_count": 18
        }
      ]
    },
    {
      "cell_type": "markdown",
      "metadata": {
        "id": "EpsiyUi7CgIl"
      },
      "source": [
        "#### Cleaning data"
      ]
    },
    {
      "cell_type": "code",
      "metadata": {
        "execution": {
          "iopub.status.busy": "2021-09-19T00:00:34.330824Z",
          "iopub.execute_input": "2021-09-19T00:00:34.3312Z",
          "iopub.status.idle": "2021-09-19T00:00:34.378852Z",
          "shell.execute_reply.started": "2021-09-19T00:00:34.331156Z",
          "shell.execute_reply": "2021-09-19T00:00:34.378014Z"
        },
        "trusted": true,
        "id": "o-YU-bxNCgIm",
        "colab": {
          "base_uri": "https://localhost:8080/",
          "height": 288
        },
        "outputId": "9c30ec35-f307-4023-af90-5e7e9dd199c2"
      },
      "source": [
        "# Dropping rows with NaN\n",
        "df = df.dropna()\n",
        "\n",
        "# Dropping columns not needed for features\n",
        "del df[\"Track Name\"]\n",
        "del df[\"Artist Name\"]\n",
        "\n",
        "df.head()"
      ],
      "execution_count": 19,
      "outputs": [
        {
          "output_type": "execute_result",
          "data": {
            "text/html": [
              "\n",
              "  <div id=\"df-15ea4fc2-1b02-4663-accc-3430a868b4c3\">\n",
              "    <div class=\"colab-df-container\">\n",
              "      <div>\n",
              "<style scoped>\n",
              "    .dataframe tbody tr th:only-of-type {\n",
              "        vertical-align: middle;\n",
              "    }\n",
              "\n",
              "    .dataframe tbody tr th {\n",
              "        vertical-align: top;\n",
              "    }\n",
              "\n",
              "    .dataframe thead th {\n",
              "        text-align: right;\n",
              "    }\n",
              "</style>\n",
              "<table border=\"1\" class=\"dataframe\">\n",
              "  <thead>\n",
              "    <tr style=\"text-align: right;\">\n",
              "      <th></th>\n",
              "      <th>Popularity</th>\n",
              "      <th>danceability</th>\n",
              "      <th>energy</th>\n",
              "      <th>key</th>\n",
              "      <th>loudness</th>\n",
              "      <th>mode</th>\n",
              "      <th>speechiness</th>\n",
              "      <th>acousticness</th>\n",
              "      <th>instrumentalness</th>\n",
              "      <th>liveness</th>\n",
              "      <th>valence</th>\n",
              "      <th>tempo</th>\n",
              "      <th>duration_in min/ms</th>\n",
              "      <th>time_signature</th>\n",
              "      <th>Class</th>\n",
              "    </tr>\n",
              "  </thead>\n",
              "  <tbody>\n",
              "    <tr>\n",
              "      <th>1</th>\n",
              "      <td>54.0</td>\n",
              "      <td>0.382</td>\n",
              "      <td>0.814</td>\n",
              "      <td>3.0</td>\n",
              "      <td>-7.230</td>\n",
              "      <td>1</td>\n",
              "      <td>0.0406</td>\n",
              "      <td>0.001100</td>\n",
              "      <td>0.004010</td>\n",
              "      <td>0.1010</td>\n",
              "      <td>0.5690</td>\n",
              "      <td>116.454</td>\n",
              "      <td>251733.0</td>\n",
              "      <td>4</td>\n",
              "      <td>10</td>\n",
              "    </tr>\n",
              "    <tr>\n",
              "      <th>2</th>\n",
              "      <td>35.0</td>\n",
              "      <td>0.434</td>\n",
              "      <td>0.614</td>\n",
              "      <td>6.0</td>\n",
              "      <td>-8.334</td>\n",
              "      <td>1</td>\n",
              "      <td>0.0525</td>\n",
              "      <td>0.486000</td>\n",
              "      <td>0.000196</td>\n",
              "      <td>0.3940</td>\n",
              "      <td>0.7870</td>\n",
              "      <td>147.681</td>\n",
              "      <td>109667.0</td>\n",
              "      <td>4</td>\n",
              "      <td>6</td>\n",
              "    </tr>\n",
              "    <tr>\n",
              "      <th>4</th>\n",
              "      <td>53.0</td>\n",
              "      <td>0.167</td>\n",
              "      <td>0.975</td>\n",
              "      <td>2.0</td>\n",
              "      <td>-4.279</td>\n",
              "      <td>1</td>\n",
              "      <td>0.2160</td>\n",
              "      <td>0.000169</td>\n",
              "      <td>0.016100</td>\n",
              "      <td>0.1720</td>\n",
              "      <td>0.0918</td>\n",
              "      <td>199.060</td>\n",
              "      <td>229960.0</td>\n",
              "      <td>4</td>\n",
              "      <td>10</td>\n",
              "    </tr>\n",
              "    <tr>\n",
              "      <th>5</th>\n",
              "      <td>53.0</td>\n",
              "      <td>0.235</td>\n",
              "      <td>0.977</td>\n",
              "      <td>6.0</td>\n",
              "      <td>0.878</td>\n",
              "      <td>1</td>\n",
              "      <td>0.1070</td>\n",
              "      <td>0.003530</td>\n",
              "      <td>0.006040</td>\n",
              "      <td>0.1720</td>\n",
              "      <td>0.2410</td>\n",
              "      <td>152.952</td>\n",
              "      <td>208133.0</td>\n",
              "      <td>4</td>\n",
              "      <td>6</td>\n",
              "    </tr>\n",
              "    <tr>\n",
              "      <th>6</th>\n",
              "      <td>48.0</td>\n",
              "      <td>0.674</td>\n",
              "      <td>0.658</td>\n",
              "      <td>5.0</td>\n",
              "      <td>-9.647</td>\n",
              "      <td>0</td>\n",
              "      <td>0.1040</td>\n",
              "      <td>0.404000</td>\n",
              "      <td>0.000001</td>\n",
              "      <td>0.0981</td>\n",
              "      <td>0.6770</td>\n",
              "      <td>143.292</td>\n",
              "      <td>329387.0</td>\n",
              "      <td>4</td>\n",
              "      <td>2</td>\n",
              "    </tr>\n",
              "  </tbody>\n",
              "</table>\n",
              "</div>\n",
              "      <button class=\"colab-df-convert\" onclick=\"convertToInteractive('df-15ea4fc2-1b02-4663-accc-3430a868b4c3')\"\n",
              "              title=\"Convert this dataframe to an interactive table.\"\n",
              "              style=\"display:none;\">\n",
              "        \n",
              "  <svg xmlns=\"http://www.w3.org/2000/svg\" height=\"24px\"viewBox=\"0 0 24 24\"\n",
              "       width=\"24px\">\n",
              "    <path d=\"M0 0h24v24H0V0z\" fill=\"none\"/>\n",
              "    <path d=\"M18.56 5.44l.94 2.06.94-2.06 2.06-.94-2.06-.94-.94-2.06-.94 2.06-2.06.94zm-11 1L8.5 8.5l.94-2.06 2.06-.94-2.06-.94L8.5 2.5l-.94 2.06-2.06.94zm10 10l.94 2.06.94-2.06 2.06-.94-2.06-.94-.94-2.06-.94 2.06-2.06.94z\"/><path d=\"M17.41 7.96l-1.37-1.37c-.4-.4-.92-.59-1.43-.59-.52 0-1.04.2-1.43.59L10.3 9.45l-7.72 7.72c-.78.78-.78 2.05 0 2.83L4 21.41c.39.39.9.59 1.41.59.51 0 1.02-.2 1.41-.59l7.78-7.78 2.81-2.81c.8-.78.8-2.07 0-2.86zM5.41 20L4 18.59l7.72-7.72 1.47 1.35L5.41 20z\"/>\n",
              "  </svg>\n",
              "      </button>\n",
              "      \n",
              "  <style>\n",
              "    .colab-df-container {\n",
              "      display:flex;\n",
              "      flex-wrap:wrap;\n",
              "      gap: 12px;\n",
              "    }\n",
              "\n",
              "    .colab-df-convert {\n",
              "      background-color: #E8F0FE;\n",
              "      border: none;\n",
              "      border-radius: 50%;\n",
              "      cursor: pointer;\n",
              "      display: none;\n",
              "      fill: #1967D2;\n",
              "      height: 32px;\n",
              "      padding: 0 0 0 0;\n",
              "      width: 32px;\n",
              "    }\n",
              "\n",
              "    .colab-df-convert:hover {\n",
              "      background-color: #E2EBFA;\n",
              "      box-shadow: 0px 1px 2px rgba(60, 64, 67, 0.3), 0px 1px 3px 1px rgba(60, 64, 67, 0.15);\n",
              "      fill: #174EA6;\n",
              "    }\n",
              "\n",
              "    [theme=dark] .colab-df-convert {\n",
              "      background-color: #3B4455;\n",
              "      fill: #D2E3FC;\n",
              "    }\n",
              "\n",
              "    [theme=dark] .colab-df-convert:hover {\n",
              "      background-color: #434B5C;\n",
              "      box-shadow: 0px 1px 3px 1px rgba(0, 0, 0, 0.15);\n",
              "      filter: drop-shadow(0px 1px 2px rgba(0, 0, 0, 0.3));\n",
              "      fill: #FFFFFF;\n",
              "    }\n",
              "  </style>\n",
              "\n",
              "      <script>\n",
              "        const buttonEl =\n",
              "          document.querySelector('#df-15ea4fc2-1b02-4663-accc-3430a868b4c3 button.colab-df-convert');\n",
              "        buttonEl.style.display =\n",
              "          google.colab.kernel.accessAllowed ? 'block' : 'none';\n",
              "\n",
              "        async function convertToInteractive(key) {\n",
              "          const element = document.querySelector('#df-15ea4fc2-1b02-4663-accc-3430a868b4c3');\n",
              "          const dataTable =\n",
              "            await google.colab.kernel.invokeFunction('convertToInteractive',\n",
              "                                                     [key], {});\n",
              "          if (!dataTable) return;\n",
              "\n",
              "          const docLinkHtml = 'Like what you see? Visit the ' +\n",
              "            '<a target=\"_blank\" href=https://colab.research.google.com/notebooks/data_table.ipynb>data table notebook</a>'\n",
              "            + ' to learn more about interactive tables.';\n",
              "          element.innerHTML = '';\n",
              "          dataTable['output_type'] = 'display_data';\n",
              "          await google.colab.output.renderOutput(dataTable, element);\n",
              "          const docLink = document.createElement('div');\n",
              "          docLink.innerHTML = docLinkHtml;\n",
              "          element.appendChild(docLink);\n",
              "        }\n",
              "      </script>\n",
              "    </div>\n",
              "  </div>\n",
              "  "
            ],
            "text/plain": [
              "   Popularity  danceability  energy  ...  duration_in min/ms  time_signature  Class\n",
              "1        54.0         0.382   0.814  ...            251733.0               4     10\n",
              "2        35.0         0.434   0.614  ...            109667.0               4      6\n",
              "4        53.0         0.167   0.975  ...            229960.0               4     10\n",
              "5        53.0         0.235   0.977  ...            208133.0               4      6\n",
              "6        48.0         0.674   0.658  ...            329387.0               4      2\n",
              "\n",
              "[5 rows x 15 columns]"
            ]
          },
          "metadata": {},
          "execution_count": 19
        }
      ]
    },
    {
      "cell_type": "code",
      "metadata": {
        "execution": {
          "iopub.status.busy": "2021-09-19T00:00:34.380069Z",
          "iopub.execute_input": "2021-09-19T00:00:34.380302Z",
          "iopub.status.idle": "2021-09-19T00:00:34.385476Z",
          "shell.execute_reply.started": "2021-09-19T00:00:34.380274Z",
          "shell.execute_reply": "2021-09-19T00:00:34.384892Z"
        },
        "trusted": true,
        "id": "fa7wXywhCgIm",
        "colab": {
          "base_uri": "https://localhost:8080/"
        },
        "outputId": "c457e0c3-9c06-4c47-dd7a-65600a67732e"
      },
      "source": [
        "df.shape"
      ],
      "execution_count": 20,
      "outputs": [
        {
          "output_type": "execute_result",
          "data": {
            "text/plain": [
              "(11813, 15)"
            ]
          },
          "metadata": {},
          "execution_count": 20
        }
      ]
    },
    {
      "cell_type": "markdown",
      "metadata": {
        "id": "bLg_pbmXCgIn"
      },
      "source": [
        "#### Defining X and y and Splitting data"
      ]
    },
    {
      "cell_type": "code",
      "metadata": {
        "execution": {
          "iopub.status.busy": "2021-09-19T00:00:34.386711Z",
          "iopub.execute_input": "2021-09-19T00:00:34.386969Z",
          "iopub.status.idle": "2021-09-19T00:00:34.40793Z",
          "shell.execute_reply.started": "2021-09-19T00:00:34.386943Z",
          "shell.execute_reply": "2021-09-19T00:00:34.406919Z"
        },
        "trusted": true,
        "id": "hw7Reo_JCgIo"
      },
      "source": [
        "from sklearn.model_selection import train_test_split\n",
        "\n",
        "# Columns used as predictors\n",
        "Xdf = df.drop([\"Class\"], axis = 1)\n",
        "X = Xdf.values\n",
        "\n",
        "# Extracting output values\n",
        "y = df[\"Class\"].values\n",
        "\n",
        "X_train, X_test, y_train, y_test = train_test_split(X, y, random_state = 0, test_size = 0.2)\n"
      ],
      "execution_count": 21,
      "outputs": []
    },
    {
      "cell_type": "markdown",
      "metadata": {
        "id": "sdspJ9I3CgIo"
      },
      "source": [
        "#### Scaling data"
      ]
    },
    {
      "cell_type": "code",
      "metadata": {
        "execution": {
          "iopub.status.busy": "2021-09-19T00:00:34.409377Z",
          "iopub.execute_input": "2021-09-19T00:00:34.409617Z",
          "iopub.status.idle": "2021-09-19T00:00:34.420719Z",
          "shell.execute_reply.started": "2021-09-19T00:00:34.409589Z",
          "shell.execute_reply": "2021-09-19T00:00:34.419837Z"
        },
        "trusted": true,
        "id": "lZCXlUZCCgIp"
      },
      "source": [
        "from sklearn.preprocessing import StandardScaler\n",
        "\n",
        "scaler = StandardScaler()\n",
        "Xtr1 = scaler.fit_transform(X_train)\n",
        "Xts1 = scaler.transform(X_test)"
      ],
      "execution_count": 22,
      "outputs": []
    },
    {
      "cell_type": "markdown",
      "metadata": {
        "id": "dbw0USh-CgIp"
      },
      "source": [
        "#### Cross fold validation with regularization"
      ]
    },
    {
      "cell_type": "code",
      "source": [
        "import sklearn.model_selection\n",
        "from sklearn.linear_model import LogisticRegression"
      ],
      "metadata": {
        "id": "yPegW-F-ZNih"
      },
      "execution_count": null,
      "outputs": []
    },
    {
      "cell_type": "code",
      "metadata": {
        "execution": {
          "iopub.status.busy": "2021-09-19T00:00:34.422275Z",
          "iopub.execute_input": "2021-09-19T00:00:34.422612Z",
          "iopub.status.idle": "2021-09-19T00:00:35.752583Z",
          "shell.execute_reply.started": "2021-09-19T00:00:34.422571Z",
          "shell.execute_reply": "2021-09-19T00:00:35.751622Z"
        },
        "trusted": true,
        "id": "Si1vvxlUCgIq"
      },
      "source": [
        "nfold = 10\n",
        "\n",
        "kf = sklearn.model_selection.KFold(n_splits=nfold, shuffle=True)\n",
        "ptest = [0.0001, 0.001, 0.01, 0.1, 1.0]\n",
        "\n",
        "crossval_matrix = np.zeros((len(ptest),nfold))\n",
        "\n",
        "#Kfold cross validation\n",
        "for isplit, Ind in enumerate(kf.split(X)):\n",
        "  Itr, Its = Ind\n",
        "\n",
        "  xtr = X[Itr]\n",
        "  ytr = y[Itr]\n",
        "  xts = X[Its]\n",
        "  yts = y[Its]\n",
        "\n",
        "  scaler = StandardScaler()\n",
        "  xtr1 = scaler.fit_transform(xtr)\n",
        "  xts1 = scaler.transform(xts)\n",
        "\n",
        "  # Loop over the penalty\n",
        "  for it, p in enumerate(ptest):\n",
        "  \n",
        "      # Fit data on training data\n",
        "      model = LogisticRegression(solver='lbfgs', penalty='l2', C =p, multi_class=\"multinomial\", max_iter=1000)\n",
        "      model.fit(xtr1,ytr)\n",
        "      acc = model.score(xts1,yts)\n",
        "      \n",
        "      # Measure acc on test data\n",
        "      crossval_matrix[it,isplit] = acc\n",
        "\n",
        "crossval_avg = np.mean(crossval_matrix, axis=1)"
      ],
      "execution_count": null,
      "outputs": []
    },
    {
      "cell_type": "code",
      "source": [
        "# Plot of accuracy against penalty\n",
        "plt.figure(figsize=(20,8))\n",
        "plt.plot(ptest, crossval_avg)\n",
        "plt.xlabel('penalty')\n",
        "plt.ylabel('accuracy')\n",
        "print(f\"The highest accuracy is {np.max(crossval_avg)}\")"
      ],
      "metadata": {
        "colab": {
          "base_uri": "https://localhost:8080/",
          "height": 514
        },
        "id": "9a3uXbY3wEQK",
        "outputId": "819d9046-1571-4111-c90e-88b53b7fb93c"
      },
      "execution_count": null,
      "outputs": [
        {
          "output_type": "stream",
          "name": "stdout",
          "text": [
            "The highest accuracy is 0.48226430611013926\n"
          ]
        },
        {
          "output_type": "display_data",
          "data": {
            "image/png": "[encoded data removed]",
            "text/plain": [
              "<Figure size 1440x576 with 1 Axes>"
            ]
          },
          "metadata": {
            "needs_background": "light"
          }
        }
      ]
    },
    {
      "cell_type": "markdown",
      "source": [
        "#### Testing number of features"
      ],
      "metadata": {
        "id": "g9N_9PnHTSXm"
      }
    },
    {
      "cell_type": "code",
      "source": [
        "from sklearn.feature_selection import RFE\n",
        "\n",
        "#select the top features \n",
        "logreg = LogisticRegression(solver='lbfgs', penalty='l2', C =1.0, multi_class=\"multinomial\", max_iter=1000).fit(Xtr1, y_train)\n",
        "rfe = RFE(logreg, n_features_to_select=1)\n",
        "rfe.fit(Xtr1, y_train)\n"
      ],
      "metadata": {
        "colab": {
          "base_uri": "https://localhost:8080/"
        },
        "id": "9GkyISxNt87G",
        "outputId": "682c5201-3b39-4d13-a1d6-7e6ebf924358"
      },
      "execution_count": null,
      "outputs": [
        {
          "output_type": "execute_result",
          "data": {
            "text/plain": [
              "RFE(estimator=LogisticRegression(max_iter=1000, multi_class='multinomial'),\n",
              "    n_features_to_select=1)"
            ]
          },
          "metadata": {},
          "execution_count": 12
        }
      ]
    },
    {
      "cell_type": "code",
      "source": [
        "from operator import itemgetter\n",
        "features = Xdf.columns.to_list()\n",
        "print(\"Features importance in descending order\")\n",
        "\n",
        "for x, y in (sorted(zip(rfe.ranking_ , features), key=itemgetter(0))):\n",
        "    print(x, y)"
      ],
      "metadata": {
        "colab": {
          "base_uri": "https://localhost:8080/"
        },
        "id": "GaMz4fj3yXOU",
        "outputId": "6d8b098d-6d06-467d-b7fe-eb4c9aa21ab8"
      },
      "execution_count": null,
      "outputs": [
        {
          "output_type": "stream",
          "name": "stdout",
          "text": [
            "Features importance in descending order\n",
            "1 duration_in min/ms\n",
            "2 energy\n",
            "3 speechiness\n",
            "4 acousticness\n",
            "5 instrumentalness\n",
            "6 danceability\n",
            "7 valence\n",
            "8 Popularity\n",
            "9 loudness\n",
            "10 mode\n",
            "11 liveness\n",
            "12 tempo\n",
            "13 key\n",
            "14 time_signature\n"
          ]
        }
      ]
    },
    {
      "cell_type": "code",
      "source": [
        "# Accuracy with respect to number of features\n",
        "n_features = 14\n",
        "\n",
        "acc_features = np.zeros(n_features)\n",
        "\n",
        "for n_f in range(n_features):\n",
        "  logreg = LogisticRegression(solver='lbfgs', penalty='l2', C =1.0, multi_class=\"multinomial\", max_iter=1000).fit(Xtr1, y_train)\n",
        "  rfe = RFE(logreg, n_features_to_select=n_f+1)\n",
        "  rfe.fit(Xtr1, y_train)\n",
        "  acc_features[n_f] = rfe.score(Xts1, y_test)"
      ],
      "metadata": {
        "id": "mfinWrrH3uNp"
      },
      "execution_count": null,
      "outputs": []
    },
    {
      "cell_type": "code",
      "source": [
        "x = np.linspace(1,15,num=14)\n",
        "plt.plot(x,acc_features)\n",
        "plt.ylabel('accuracy')\n",
        "plt.xlabel('number of features')"
      ],
      "metadata": {
        "id": "Qj-rvccfB80H"
      },
      "execution_count": null,
      "outputs": []
    },
    {
      "cell_type": "markdown",
      "source": [
        "# Prediction using a Neural Network"
      ],
      "metadata": {
        "id": "YnntAJufsCIR"
      }
    },
    {
      "cell_type": "code",
      "metadata": {
        "id": "cXs7txiUDQrC"
      },
      "source": [
        "\n",
        "from tensorflow.keras.models import Sequential\n",
        "from tensorflow.keras.layers import Dense\n",
        "from tensorflow.keras import optimizers\n",
        "from keras.layers import Dropout\n",
        "\n",
        "import tensorflow.keras.backend as K\n",
        "nin = X_train.shape[1]\n",
        "nout = np.max(y_train) + 1\n",
        "hist_arr = []\n",
        "accuracies = []\n",
        "scores = []\n",
        "\n",
        "\n",
        "#Testing for best number of hidden units. Note that the range is small here,\n",
        "#but during testing multiple sessions were ran, all testing different ranges (done to save time).\n",
        "#The most optimal nh was found to be 26.\n",
        "\n",
        "\n",
        "# for i in range(13, 18, 1):\n",
        "#   K.clear_session()\n",
        "#   print(i)\n",
        "#   nh = i\n",
        "#   model = Sequential()\n",
        "#   model.add(Dense(units=nh, input_shape=(nin,), activation='sigmoid',name='hidden'))\n",
        "#   model.add(Dense(units=nout, activation='softmax', name='output'))\n",
        "\n",
        "#   opt = optimizers.Adam(learning_rate=1e-3) \n",
        "#   model.compile(optimizer=opt,\n",
        "#                 loss='sparse_categorical_crossentropy',\n",
        "#                 metrics=['accuracy'])\n",
        "\n",
        "#   hist = model.fit(X_train, y_train, epochs=1000, batch_size=100, verbose=False)\n",
        "#   hist_arr.append(hist)\n",
        "#   score, acc = model.evaluate(X_test, y_test, verbose=1)\n",
        "#   accuracies.append(acc)\n",
        "#   scores.append(score)\n",
        "\n",
        "\n",
        "#Different hidden layers were tested, and it was found that the following layers were most effective.\n",
        "#Note that a single dropout layer was the best case, and the highest accuracy achieved was approximately 55%\n",
        "\n",
        "#What we learned in class was applied for each of the parameters, and further research was conducted to gain insight\n",
        "#as to what the best combinations of layers would be.\n",
        "\n",
        "K.clear_session()\n",
        "nh = 34\n",
        "model = Sequential()\n",
        "model.add(Dense(units=nh, input_shape=(nin,), activation='sigmoid',name='hidden'))\n",
        "# model.add(Dropout(0.6))\n",
        "model.add(Dense(units=nout, activation='softmax', name='output'))\n",
        "\n",
        "opt = optimizers.Adam(learning_rate=1e-3) \n",
        "model.compile(optimizer=opt,\n",
        "              loss='sparse_categorical_crossentropy',\n",
        "              metrics=['accuracy'])\n",
        "\n",
        "hist = model.fit(Xtr1, y_train, epochs=1000, batch_size=100, verbose=False)\n",
        "hist_arr.append(hist)\n",
        "score, acc = model.evaluate(Xts1, y_test, verbose=1)\n",
        "\n",
        "# accuracies.append(acc)\n",
        "# scores.append(score)"
      ],
      "execution_count": null,
      "outputs": []
    },
    {
      "cell_type": "markdown",
      "source": [
        "# Music Genre Prediction using SVM"
      ],
      "metadata": {
        "id": "8YKRFSYasq2T"
      }
    },
    {
      "cell_type": "markdown",
      "source": [
        "In this section, we use SVMs to instead classify music genres"
      ],
      "metadata": {
        "id": "8r5zJNP7ss1N"
      }
    },
    {
      "cell_type": "markdown",
      "source": [
        "## Importing libraries"
      ],
      "metadata": {
        "id": "ESVID5W0su0i"
      }
    },
    {
      "cell_type": "code",
      "metadata": {
        "id": "gIxdTvPVIHy-"
      },
      "source": [
        "from sklearn import svm"
      ],
      "execution_count": null,
      "outputs": []
    },
    {
      "cell_type": "markdown",
      "source": [
        "## Finding Optimal Conditions for SVC"
      ],
      "metadata": {
        "id": "WetNsxmGsyv-"
      }
    },
    {
      "cell_type": "markdown",
      "source": [
        "For our SVC, we will train and test the model across different c and gamma values to find the optimal hyperparameters.\n",
        "\n",
        "The chosen parameters for c are: 0.001, 0.01, 0.1, 1 and 10, and a linear kernel is used. \n",
        "\n",
        "The chosen parameters for gamma are: 0.001, 0.01, 0.1, and 1."
      ],
      "metadata": {
        "id": "cxX7khI3szUU"
      }
    },
    {
      "cell_type": "code",
      "source": [
        "c_values = np.array([0.001, 0.01,0.1,1,10])\n",
        "gamma_values = np.array([0.001, 0.01, 0.1, 1])\n",
        "# kernel_values = np.array([\"linear\", \"poly\", \"rbf\", \"sigmoid\"])"
      ],
      "metadata": {
        "id": "ryB7CYMZs3lL"
      },
      "execution_count": null,
      "outputs": []
    },
    {
      "cell_type": "code",
      "source": [
        "acc_matrix = np.zeros((c_values.shape[0],gamma_values.shape[0]))\n",
        "\n",
        "for i_c, c in enumerate(c_values):\n",
        "  for i_g, g in enumerate(gamma_values):\n",
        "    print(i_c, i_g)\n",
        "    svc = svm.SVC(probability=False,  kernel=\"linear\", C=c, gamma=g,verbose=10) #linear\n",
        "    svc.fit(X_train,y_train)\n",
        "    yhat = svc.predict(X_test)\n",
        "    acc = np.mean(yhat == y_test)\n",
        "    # print(acc)\n",
        "    acc_matrix[i_c, i_g] = acc"
      ],
      "metadata": {
        "id": "Dn_m3EAws430"
      },
      "execution_count": null,
      "outputs": []
    },
    {
      "cell_type": "markdown",
      "source": [
        "Next, we fill find the values of c and gamma with the highest accuracy\n",
        "\n",
        "---\n",
        "\n"
      ],
      "metadata": {
        "id": "DiF0Bk1ls9T6"
      }
    },
    {
      "cell_type": "code",
      "source": [
        "max_index = np.argmax(acc_matrix)\n",
        "max_i = max_index//gamma_values.shape[0]\n",
        "max_j = max_index - (max_i)*gamma_values.shape[0]\n",
        "c = c_values.flatten()[max_i]\n",
        "gamma = gamma_values.flatten()[max_j]\n",
        "max_acc = acc_matrix.flatten()[max_index]\n",
        "\n",
        "print(\"-- SVC with highest accuracy --\")\n",
        "print(f\"Accuracy = {max_acc}\")\n",
        "print(f\"c = {c} and gamma = {gamma}\")"
      ],
      "metadata": {
        "id": "M9yeS5GZs650"
      },
      "execution_count": null,
      "outputs": []
    },
    {
      "cell_type": "markdown",
      "source": [
        "## With PCA Data"
      ],
      "metadata": {
        "id": "s-zIXtp-tB1j"
      }
    },
    {
      "cell_type": "markdown",
      "source": [
        "Using the above optimal conditions, we will observe how the model gets more accurate as the number of Principle Components (PCs) increase:"
      ],
      "metadata": {
        "id": "dE8ZFVj2tD8J"
      }
    },
    {
      "cell_type": "code",
      "source": [
        "acc_matrix_pca = np.zeros(X_train.shape[1])\n",
        "\n",
        "for i_c in range(X_train.shape[1]):\n",
        "    pcal = PCA(n_components = i_c + 1)\n",
        "    X_pca_train = pcal.fit_transform(X_train)\n",
        "    X_pca_test = pcal.transform(X_test)\n",
        "    svc = svm.SVC(probability=False,  kernel=\"linear\", C=c, gamma=g,verbose=10) #linear\n",
        "    svc.fit(X_pca_train,y_train)\n",
        "    yhat = svc.predict(X_pca_test)\n",
        "    acc = np.mean(yhat == y_test)\n",
        "    acc_matrix_pca[i_c] = acc"
      ],
      "metadata": {
        "id": "5WFutOZTs_OM"
      },
      "execution_count": null,
      "outputs": []
    },
    {
      "cell_type": "markdown",
      "source": [
        "Plot the relationship of accuracy against number of PCs"
      ],
      "metadata": {
        "id": "X3Hh2FwntHl0"
      }
    },
    {
      "cell_type": "code",
      "source": [
        "plt.plot(np.arange(acc_matrix_pca.shape[0])+1, acc_matrix_pca,  'r')\n",
        "plt.xlabel('# of PCs')\n",
        "plt.ylabel('accuracy')"
      ],
      "metadata": {
        "id": "sTSk8vTYtH8h"
      },
      "execution_count": null,
      "outputs": []
    },
    {
      "cell_type": "markdown",
      "source": [
        "Let us find the highest performing number of PCs."
      ],
      "metadata": {
        "id": "Vkg-BJ_ntKGq"
      }
    },
    {
      "cell_type": "code",
      "source": [
        "max_pca_index = np.argmax(acc_matrix_pca)\n",
        "max_pca_acc = acc_matrix_pca[max_pca_index]\n",
        "\n",
        "print(\"-- SVC with highest accuracy --\")\n",
        "print(f\"Accuracy = {max_pca_acc}\")\n",
        "print(f\"c = {c} and gamma = {gamma}\")\n",
        "print(f\"Number of PCs = {max_pca_index + 1}\")"
      ],
      "metadata": {
        "id": "Ae2gxqI5tKmg"
      },
      "execution_count": null,
      "outputs": []
    },
    {
      "cell_type": "markdown",
      "source": [
        "By the above results, contrary to expectations, we see that having 13 PCs has had a slightly better results than using all 14 PCs. This can be misleading since the difference in accuracy is miniscule. However, this may also indicate that there exists an input feature that is harming the performance of the system."
      ],
      "metadata": {
        "id": "0BCibAFxtMyj"
      }
    }
  ]
}